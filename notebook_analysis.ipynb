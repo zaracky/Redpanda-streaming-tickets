{
 "cells": [
  {
   "cell_type": "code",
   "execution_count": 1,
   "id": "2e397064",
   "metadata": {},
   "outputs": [],
   "source": [
    "# Lire les données des AWS S3 bucket\n",
    "import os\n",
    "from pyspark.sql import SparkSession\n",
    "\n",
    "# Créer une Session Spark avec les configurations AWS\n",
    "spark = SparkSession \\\n",
    "    .builder \\\n",
    "    .appName(\"ReadS3Data\") \\\n",
    "    .config(\"spark.jars\", \"/usr/local/spark/jars/hadoop-aws-3.3.1.jar,/usr/local/spark/jars/aws-java-sdk-bundle-1.11.1026.jar\") \\\n",
    "    .config(\"spark.hadoop.fs.s3a.access.key\", os.environ['AWS_ACCESS_KEY_ID']) \\\n",
    "    .config(\"spark.hadoop.fs.s3a.secret.key\", os.environ['AWS_SECRET_ACCESS_KEY']) \\\n",
    "    .config(\"spark.hadoop.fs.s3a.endpoint\", \"s3.amazonaws.com\") \\\n",
    "    .config(\"spark.hadoop.fs.s3a.impl\", \"org.apache.hadoop.fs.s3a.S3AFileSystem\") \\\n",
    "    .config(\"spark.hadoop.fs.s3a.aws.credentials.provider\", \"org.apache.hadoop.fs.s3a.SimpleAWSCredentialsProvider\") \\\n",
    "    .getOrCreate()"
   ]
  },
  {
   "cell_type": "code",
   "execution_count": 12,
   "id": "a3c12c08",
   "metadata": {},
   "outputs": [
    {
     "name": "stdout",
     "output_type": "stream",
     "text": [
      "+---------------+---------------+--------------------+-----+\n",
      "|   demande_type|   support_team|              window|count|\n",
      "+---------------+---------------+--------------------+-----+\n",
      "|General Inquiry|General Support|{2025-04-16 20:26...|   14|\n",
      "|General Inquiry|General Support|{2025-04-16 20:27...|   19|\n",
      "|        Billing|Billing Support|{2025-04-16 20:26...|   14|\n",
      "|        Billing|Billing Support|{2025-04-16 20:27...|   19|\n",
      "|      Technical|   Tech Support|{2025-04-16 20:26...|   13|\n",
      "|      Technical|   Tech Support|{2025-04-16 20:27...|   22|\n",
      "+---------------+---------------+--------------------+-----+\n",
      "\n"
     ]
    }
   ],
   "source": [
    "# Lire les données\n",
    "df = spark.read.parquet(os.environ['AWS_S3_RESULT_FOLDER'])\n",
    "\n",
    "# Afficher les données\n",
    "df.show()"
   ]
  },
  {
   "cell_type": "code",
   "execution_count": 13,
   "id": "8a577316",
   "metadata": {},
   "outputs": [
    {
     "data": {
      "image/png": "[encoded data removed]",
      "text/plain": [
       "<Figure size 600x400 with 1 Axes>"
      ]
     },
     "metadata": {},
     "output_type": "display_data"
    }
   ],
   "source": [
    "import matplotlib.pyplot as plt\n",
    "\n",
    "# Regrouper par équipe et sommer les tickets\n",
    "df_total = df.groupBy(\"support_team\").sum(\"count\").withColumnRenamed(\"sum(count)\", \"total_tickets\")\n",
    "\n",
    "# Conversion en Pandas\n",
    "df_total_pd = df_total.toPandas()\n",
    "\n",
    "# Tracer le graphique\n",
    "plt.figure(figsize=(6, 4))\n",
    "plt.bar(df_total_pd[\"support_team\"], df_total_pd[\"total_tickets\"], color=\"skyblue\")\n",
    "plt.title(\"Nombre total de tickets par équipe\")\n",
    "plt.xlabel(\"Équipe\")\n",
    "plt.ylabel(\"Tickets\")\n",
    "plt.tight_layout()\n",
    "plt.show()\n"
   ]
  },
  {
   "cell_type": "code",
   "execution_count": 15,
   "id": "80e2ad2e-129a-42d0-b1d0-d423db7edf48",
   "metadata": {},
   "outputs": [
    {
     "name": "stdout",
     "output_type": "stream",
     "text": [
      "+--------+--------------------+-----+\n",
      "|priority|              window|count|\n",
      "+--------+--------------------+-----+\n",
      "|  Medium|{2025-04-16 20:26...|   15|\n",
      "|    High|{2025-04-16 20:27...|   25|\n",
      "|  Medium|{2025-04-16 20:27...|   18|\n",
      "|  Medium|{2025-04-16 20:28...|   17|\n",
      "|    High|{2025-04-16 20:28...|   19|\n",
      "|    High|{2025-04-16 20:26...|   18|\n",
      "|     Low|{2025-04-16 20:26...|    8|\n",
      "|     Low|{2025-04-16 20:27...|   17|\n",
      "|     Low|{2025-04-16 20:28...|   23|\n",
      "+--------+--------------------+-----+\n",
      "\n"
     ]
    }
   ],
   "source": [
    "# Lire les données depuis le dossier \"priorities\" sur S3\n",
    "df_prio = spark.read.parquet(os.path.join(os.environ[\"AWS_S3_RESULT_FOLDER\"], \"priorities\"))\n",
    "\n",
    "# Afficher un aperçu des données\n",
    "df_prio.show()"
   ]
  },
  {
   "cell_type": "code",
   "execution_count": 11,
   "id": "c8910cd0-d818-4c9d-ac6e-d308abc24205",
   "metadata": {},
   "outputs": [
    {
     "ename": "AnalysisException",
     "evalue": "[UNRESOLVED_COLUMN.WITH_SUGGESTION] A column or function parameter with name `prority` cannot be resolved. Did you mean one of the following? [`priority`, `count`, `window`].;\n'Aggregate ['prority], ['prority, sum(count#141L) AS sum(count)#181L]\n+- Relation [priority#139,window#140-T60000ms,count#141L] parquet\n",
     "output_type": "error",
     "traceback": [
      "\u001b[0;31m---------------------------------------------------------------------------\u001b[0m",
      "\u001b[0;31mAnalysisException\u001b[0m                         Traceback (most recent call last)",
      "Cell \u001b[0;32mIn[11], line 2\u001b[0m\n\u001b[1;32m      1\u001b[0m \u001b[38;5;66;03m# Regrouper par priorité et sommer les tickets\u001b[39;00m\n\u001b[0;32m----> 2\u001b[0m df_total_prio \u001b[38;5;241m=\u001b[39m \u001b[43mdf_prio\u001b[49m\u001b[38;5;241;43m.\u001b[39;49m\u001b[43mgroupBy\u001b[49m\u001b[43m(\u001b[49m\u001b[38;5;124;43m\"\u001b[39;49m\u001b[38;5;124;43mprority\u001b[39;49m\u001b[38;5;124;43m\"\u001b[39;49m\u001b[43m)\u001b[49m\u001b[38;5;241;43m.\u001b[39;49m\u001b[43msum\u001b[49m\u001b[43m(\u001b[49m\u001b[38;5;124;43m\"\u001b[39;49m\u001b[38;5;124;43mcount\u001b[39;49m\u001b[38;5;124;43m\"\u001b[39;49m\u001b[43m)\u001b[49m\u001b[38;5;241m.\u001b[39mwithColumnRenamed(\u001b[38;5;124m\"\u001b[39m\u001b[38;5;124msum(count)\u001b[39m\u001b[38;5;124m\"\u001b[39m, \u001b[38;5;124m\"\u001b[39m\u001b[38;5;124mtotal_tickets\u001b[39m\u001b[38;5;124m\"\u001b[39m)\n\u001b[1;32m      4\u001b[0m \u001b[38;5;66;03m# Conversion en Pandas pour visualisation\u001b[39;00m\n\u001b[1;32m      5\u001b[0m df_total_prio_pd \u001b[38;5;241m=\u001b[39m df_total_prio\u001b[38;5;241m.\u001b[39mtoPandas()\n",
      "File \u001b[0;32m/usr/local/spark/python/pyspark/sql/group.py:49\u001b[0m, in \u001b[0;36mdf_varargs_api.<locals>._api\u001b[0;34m(self, *cols)\u001b[0m\n\u001b[1;32m     47\u001b[0m \u001b[38;5;28;01mdef\u001b[39;00m \u001b[38;5;21m_api\u001b[39m(\u001b[38;5;28mself\u001b[39m: \u001b[38;5;124m\"\u001b[39m\u001b[38;5;124mGroupedData\u001b[39m\u001b[38;5;124m\"\u001b[39m, \u001b[38;5;241m*\u001b[39mcols: \u001b[38;5;28mstr\u001b[39m) \u001b[38;5;241m-\u001b[39m\u001b[38;5;241m>\u001b[39m DataFrame:\n\u001b[1;32m     48\u001b[0m     name \u001b[38;5;241m=\u001b[39m f\u001b[38;5;241m.\u001b[39m\u001b[38;5;18m__name__\u001b[39m\n\u001b[0;32m---> 49\u001b[0m     jdf \u001b[38;5;241m=\u001b[39m \u001b[38;5;28;43mgetattr\u001b[39;49m\u001b[43m(\u001b[49m\u001b[38;5;28;43mself\u001b[39;49m\u001b[38;5;241;43m.\u001b[39;49m\u001b[43m_jgd\u001b[49m\u001b[43m,\u001b[49m\u001b[43m \u001b[49m\u001b[43mname\u001b[49m\u001b[43m)\u001b[49m\u001b[43m(\u001b[49m\u001b[43m_to_seq\u001b[49m\u001b[43m(\u001b[49m\u001b[38;5;28;43mself\u001b[39;49m\u001b[38;5;241;43m.\u001b[39;49m\u001b[43msession\u001b[49m\u001b[38;5;241;43m.\u001b[39;49m\u001b[43m_sc\u001b[49m\u001b[43m,\u001b[49m\u001b[43m \u001b[49m\u001b[43mcols\u001b[49m\u001b[43m)\u001b[49m\u001b[43m)\u001b[49m\n\u001b[1;32m     50\u001b[0m     \u001b[38;5;28;01mreturn\u001b[39;00m DataFrame(jdf, \u001b[38;5;28mself\u001b[39m\u001b[38;5;241m.\u001b[39msession)\n",
      "File \u001b[0;32m/usr/local/spark/python/lib/py4j-0.10.9.7-src.zip/py4j/java_gateway.py:1322\u001b[0m, in \u001b[0;36mJavaMember.__call__\u001b[0;34m(self, *args)\u001b[0m\n\u001b[1;32m   1316\u001b[0m command \u001b[38;5;241m=\u001b[39m proto\u001b[38;5;241m.\u001b[39mCALL_COMMAND_NAME \u001b[38;5;241m+\u001b[39m\\\n\u001b[1;32m   1317\u001b[0m     \u001b[38;5;28mself\u001b[39m\u001b[38;5;241m.\u001b[39mcommand_header \u001b[38;5;241m+\u001b[39m\\\n\u001b[1;32m   1318\u001b[0m     args_command \u001b[38;5;241m+\u001b[39m\\\n\u001b[1;32m   1319\u001b[0m     proto\u001b[38;5;241m.\u001b[39mEND_COMMAND_PART\n\u001b[1;32m   1321\u001b[0m answer \u001b[38;5;241m=\u001b[39m \u001b[38;5;28mself\u001b[39m\u001b[38;5;241m.\u001b[39mgateway_client\u001b[38;5;241m.\u001b[39msend_command(command)\n\u001b[0;32m-> 1322\u001b[0m return_value \u001b[38;5;241m=\u001b[39m \u001b[43mget_return_value\u001b[49m\u001b[43m(\u001b[49m\n\u001b[1;32m   1323\u001b[0m \u001b[43m    \u001b[49m\u001b[43manswer\u001b[49m\u001b[43m,\u001b[49m\u001b[43m \u001b[49m\u001b[38;5;28;43mself\u001b[39;49m\u001b[38;5;241;43m.\u001b[39;49m\u001b[43mgateway_client\u001b[49m\u001b[43m,\u001b[49m\u001b[43m \u001b[49m\u001b[38;5;28;43mself\u001b[39;49m\u001b[38;5;241;43m.\u001b[39;49m\u001b[43mtarget_id\u001b[49m\u001b[43m,\u001b[49m\u001b[43m \u001b[49m\u001b[38;5;28;43mself\u001b[39;49m\u001b[38;5;241;43m.\u001b[39;49m\u001b[43mname\u001b[49m\u001b[43m)\u001b[49m\n\u001b[1;32m   1325\u001b[0m \u001b[38;5;28;01mfor\u001b[39;00m temp_arg \u001b[38;5;129;01min\u001b[39;00m temp_args:\n\u001b[1;32m   1326\u001b[0m     \u001b[38;5;28;01mif\u001b[39;00m \u001b[38;5;28mhasattr\u001b[39m(temp_arg, \u001b[38;5;124m\"\u001b[39m\u001b[38;5;124m_detach\u001b[39m\u001b[38;5;124m\"\u001b[39m):\n",
      "File \u001b[0;32m/usr/local/spark/python/pyspark/errors/exceptions/captured.py:185\u001b[0m, in \u001b[0;36mcapture_sql_exception.<locals>.deco\u001b[0;34m(*a, **kw)\u001b[0m\n\u001b[1;32m    181\u001b[0m converted \u001b[38;5;241m=\u001b[39m convert_exception(e\u001b[38;5;241m.\u001b[39mjava_exception)\n\u001b[1;32m    182\u001b[0m \u001b[38;5;28;01mif\u001b[39;00m \u001b[38;5;129;01mnot\u001b[39;00m \u001b[38;5;28misinstance\u001b[39m(converted, UnknownException):\n\u001b[1;32m    183\u001b[0m     \u001b[38;5;66;03m# Hide where the exception came from that shows a non-Pythonic\u001b[39;00m\n\u001b[1;32m    184\u001b[0m     \u001b[38;5;66;03m# JVM exception message.\u001b[39;00m\n\u001b[0;32m--> 185\u001b[0m     \u001b[38;5;28;01mraise\u001b[39;00m converted \u001b[38;5;28;01mfrom\u001b[39;00m \u001b[38;5;28;01mNone\u001b[39;00m\n\u001b[1;32m    186\u001b[0m \u001b[38;5;28;01melse\u001b[39;00m:\n\u001b[1;32m    187\u001b[0m     \u001b[38;5;28;01mraise\u001b[39;00m\n",
      "\u001b[0;31mAnalysisException\u001b[0m: [UNRESOLVED_COLUMN.WITH_SUGGESTION] A column or function parameter with name `prority` cannot be resolved. Did you mean one of the following? [`priority`, `count`, `window`].;\n'Aggregate ['prority], ['prority, sum(count#141L) AS sum(count)#181L]\n+- Relation [priority#139,window#140-T60000ms,count#141L] parquet\n"
     ]
    }
   ],
   "source": [
    "# Regrouper par priorité et sommer les tickets\n",
    "df_total_prio = df_prio.groupBy(\"priority\").sum(\"count\").withColumnRenamed(\"sum(count)\", \"total_tickets\")\n",
    "\n",
    "# Conversion en Pandas pour visualisation\n",
    "df_total_prio_pd = df_total_prio.toPandas()\n",
    "\n",
    "# Tracer le graphique\n",
    "plt.figure(figsize=(6, 4))\n",
    "plt.bar(df_total_prio_pd[\"priority\"], df_total_prio_pd[\"total_tickets\"], color=\"orange\")\n",
    "plt.title(\"Nombre total de tickets par priorité\")\n",
    "plt.xlabel(\"Priorité\")\n",
    "plt.ylabel(\"Tickets\")\n",
    "plt.tight_layout()\n",
    "plt.show()"
   ]
  },
  {
   "cell_type": "code",
   "execution_count": null,
   "id": "9b298bd1-f7cd-4c40-ba32-f1d0110f5164",
   "metadata": {},
   "outputs": [],
   "source": []
  }
 ],
 "metadata": {
  "kernelspec": {
   "display_name": "Python 3 (ipykernel)",
   "language": "python",
   "name": "python3"
  },
  "language_info": {
   "codemirror_mode": {
    "name": "ipython",
    "version": 3
   },
   "file_extension": ".py",
   "mimetype": "text/x-python",
   "name": "python",
   "nbconvert_exporter": "python",
   "pygments_lexer": "ipython3",
   "version": "3.11.6"
  }
 },
 "nbformat": 4,
 "nbformat_minor": 5
}
